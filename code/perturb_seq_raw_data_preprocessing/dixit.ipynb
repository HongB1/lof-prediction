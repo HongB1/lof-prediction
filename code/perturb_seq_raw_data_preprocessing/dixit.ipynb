{
 "cells": [
  {
   "cell_type": "markdown",
   "metadata": {},
   "source": [
    "이 코드의 문서 : https://www.notion.so/GEARS-perturb-seq-bc7280ec1fad407291d6f8145df9c068?pvs=4"
   ]
  },
  {
   "cell_type": "code",
   "execution_count": 61,
   "metadata": {},
   "outputs": [],
   "source": [
    "import scanpy\n",
    "import pandas as pd\n",
    "import anndata\n",
    "import os\n",
    "os.chdir(\"/media/hdd/hb/lof/perturb_seq/geo_raw_data/dixit_gse90063\")"
   ]
  },
  {
   "cell_type": "code",
   "execution_count": 250,
   "metadata": {},
   "outputs": [
    {
     "data": {
      "text/plain": [
       "AnnData object with n_obs × n_vars = 22783 × 25971"
      ]
     },
     "execution_count": 250,
     "metadata": {},
     "output_type": "execute_result"
    }
   ],
   "source": [
    "exp = anndata.read_mtx(\"/media/hdd/hb/lof/perturb_seq/geo_raw_data/dixit_gse90063/GSM2396861_k562_ccycle.mtx\")\n",
    "exp"
   ]
  },
  {
   "cell_type": "code",
   "execution_count": 251,
   "metadata": {},
   "outputs": [],
   "source": [
    "cbc_gbc_dic = pd.read_csv(\"/media/hdd/hb/lof/perturb_seq/geo_raw_data/dixit_gse90063/GSM2396861_k562_ccycle_cbc_gbc_dict.csv\", sep=',', header=None, names=['cbc', 'gbc'])\n",
    "cell_info = pd.read_csv(\"/media/hdd/hb/lof/perturb_seq/geo_raw_data/dixit_gse90063/GSM2396861_k562_ccycle_cellnames.csv\", names=['cell_barcode'], header=None, skiprows=1)\n",
    "gene_info = pd.read_csv(\"/media/hdd/hb/lof/perturb_seq/geo_raw_data/dixit_gse90063/GSM2396861_k562_ccycle_genenames.csv\", header=None, skiprows=1, names=['gene_name'])"
   ]
  },
  {
   "cell_type": "code",
   "execution_count": 252,
   "metadata": {},
   "outputs": [
    {
     "data": {
      "text/html": [
       "<div>\n",
       "<style scoped>\n",
       "    .dataframe tbody tr th:only-of-type {\n",
       "        vertical-align: middle;\n",
       "    }\n",
       "\n",
       "    .dataframe tbody tr th {\n",
       "        vertical-align: top;\n",
       "    }\n",
       "\n",
       "    .dataframe thead th {\n",
       "        text-align: right;\n",
       "    }\n",
       "</style>\n",
       "<table border=\"1\" class=\"dataframe\">\n",
       "  <thead>\n",
       "    <tr style=\"text-align: right;\">\n",
       "      <th></th>\n",
       "      <th>gene_name</th>\n",
       "      <th>gene_symbol</th>\n",
       "    </tr>\n",
       "    <tr>\n",
       "      <th>gene_id</th>\n",
       "      <th></th>\n",
       "      <th></th>\n",
       "    </tr>\n",
       "  </thead>\n",
       "  <tbody>\n",
       "    <tr>\n",
       "      <th>ENSG00000186092</th>\n",
       "      <td>ENSG00000186092_OR4F5</td>\n",
       "      <td>OR4F5</td>\n",
       "    </tr>\n",
       "    <tr>\n",
       "      <th>ENSG00000238009</th>\n",
       "      <td>ENSG00000238009_RP11-34P13.7</td>\n",
       "      <td>RP11-34P13.7</td>\n",
       "    </tr>\n",
       "    <tr>\n",
       "      <th>ENSG00000239945</th>\n",
       "      <td>ENSG00000239945_RP11-34P13.8</td>\n",
       "      <td>RP11-34P13.8</td>\n",
       "    </tr>\n",
       "    <tr>\n",
       "      <th>ENSG00000237683</th>\n",
       "      <td>ENSG00000237683_AL627309.1</td>\n",
       "      <td>AL627309.1</td>\n",
       "    </tr>\n",
       "    <tr>\n",
       "      <th>ENSG00000241599</th>\n",
       "      <td>ENSG00000241599_RP11-34P13.9</td>\n",
       "      <td>RP11-34P13.9</td>\n",
       "    </tr>\n",
       "    <tr>\n",
       "      <th>...</th>\n",
       "      <td>...</td>\n",
       "      <td>...</td>\n",
       "    </tr>\n",
       "    <tr>\n",
       "      <th>ENSG00000212884</th>\n",
       "      <td>ENSG00000212884_AC011841.1</td>\n",
       "      <td>AC011841.1</td>\n",
       "    </tr>\n",
       "    <tr>\n",
       "      <th>ENSG00000215615</th>\n",
       "      <td>ENSG00000215615_AL354822.1</td>\n",
       "      <td>AL354822.1</td>\n",
       "    </tr>\n",
       "    <tr>\n",
       "      <th>ENSG00000215700</th>\n",
       "      <td>ENSG00000215700_PNRC2</td>\n",
       "      <td>PNRC2</td>\n",
       "    </tr>\n",
       "    <tr>\n",
       "      <th>ENSG00000215699</th>\n",
       "      <td>ENSG00000215699_SRSF10</td>\n",
       "      <td>SRSF10</td>\n",
       "    </tr>\n",
       "    <tr>\n",
       "      <th>ENSG00000268590</th>\n",
       "      <td>ENSG00000268590_BAGE5</td>\n",
       "      <td>BAGE5</td>\n",
       "    </tr>\n",
       "  </tbody>\n",
       "</table>\n",
       "<p>22783 rows × 2 columns</p>\n",
       "</div>"
      ],
      "text/plain": [
       "                                    gene_name   gene_symbol\n",
       "gene_id                                                    \n",
       "ENSG00000186092         ENSG00000186092_OR4F5         OR4F5\n",
       "ENSG00000238009  ENSG00000238009_RP11-34P13.7  RP11-34P13.7\n",
       "ENSG00000239945  ENSG00000239945_RP11-34P13.8  RP11-34P13.8\n",
       "ENSG00000237683    ENSG00000237683_AL627309.1    AL627309.1\n",
       "ENSG00000241599  ENSG00000241599_RP11-34P13.9  RP11-34P13.9\n",
       "...                                       ...           ...\n",
       "ENSG00000212884    ENSG00000212884_AC011841.1    AC011841.1\n",
       "ENSG00000215615    ENSG00000215615_AL354822.1    AL354822.1\n",
       "ENSG00000215700         ENSG00000215700_PNRC2         PNRC2\n",
       "ENSG00000215699        ENSG00000215699_SRSF10        SRSF10\n",
       "ENSG00000268590         ENSG00000268590_BAGE5         BAGE5\n",
       "\n",
       "[22783 rows x 2 columns]"
      ]
     },
     "execution_count": 252,
     "metadata": {},
     "output_type": "execute_result"
    }
   ],
   "source": [
    "gene_info['gene_id'] = gene_info['gene_name'].apply(lambda x: x.split('_')[0])\n",
    "gene_info['gene_symbol'] = gene_info['gene_name'].apply(lambda x: x.split('_')[1])\n",
    "gene_info.index = gene_info['gene_id']\n",
    "del gene_info['gene_id']\n",
    "gene_info"
   ]
  },
  {
   "cell_type": "code",
   "execution_count": 253,
   "metadata": {},
   "outputs": [
    {
     "data": {
      "text/html": [
       "<div>\n",
       "<style scoped>\n",
       "    .dataframe tbody tr th:only-of-type {\n",
       "        vertical-align: middle;\n",
       "    }\n",
       "\n",
       "    .dataframe tbody tr th {\n",
       "        vertical-align: top;\n",
       "    }\n",
       "\n",
       "    .dataframe thead th {\n",
       "        text-align: right;\n",
       "    }\n",
       "</style>\n",
       "<table border=\"1\" class=\"dataframe\">\n",
       "  <thead>\n",
       "    <tr style=\"text-align: right;\">\n",
       "      <th></th>\n",
       "    </tr>\n",
       "    <tr>\n",
       "      <th>cell_barcode</th>\n",
       "    </tr>\n",
       "  </thead>\n",
       "  <tbody>\n",
       "    <tr>\n",
       "      <th>AAACATACATGTGC_cc7d_D2</th>\n",
       "    </tr>\n",
       "    <tr>\n",
       "      <th>AAACATACATTCCT_cc7d_D2</th>\n",
       "    </tr>\n",
       "    <tr>\n",
       "      <th>AAACATACCCCGTT_cc7d_D2</th>\n",
       "    </tr>\n",
       "    <tr>\n",
       "      <th>AAACATACGATAGA_cc7d_D2</th>\n",
       "    </tr>\n",
       "    <tr>\n",
       "      <th>AAACATACGTACGT_cc7d_D2</th>\n",
       "    </tr>\n",
       "    <tr>\n",
       "      <th>...</th>\n",
       "    </tr>\n",
       "    <tr>\n",
       "      <th>TTTGCATGGCCATA_cc7d_C1</th>\n",
       "    </tr>\n",
       "    <tr>\n",
       "      <th>TTTGCATGGCTAAC_cc7d_C1</th>\n",
       "    </tr>\n",
       "    <tr>\n",
       "      <th>TTTGCATGGCTACA_cc7d_C1</th>\n",
       "    </tr>\n",
       "    <tr>\n",
       "      <th>TTTGCATGTAGAGA_cc7d_C1</th>\n",
       "    </tr>\n",
       "    <tr>\n",
       "      <th>TTTGCATGTGTAGC_cc7d_C1</th>\n",
       "    </tr>\n",
       "  </tbody>\n",
       "</table>\n",
       "<p>25971 rows × 0 columns</p>\n",
       "</div>"
      ],
      "text/plain": [
       "Empty DataFrame\n",
       "Columns: []\n",
       "Index: [AAACATACATGTGC_cc7d_D2, AAACATACATTCCT_cc7d_D2, AAACATACCCCGTT_cc7d_D2, AAACATACGATAGA_cc7d_D2, AAACATACGTACGT_cc7d_D2, AAACATACTTTCTG_cc7d_D2, AAACCGTGAGCCTA_cc7d_D2, AAACCGTGTACAGC_cc7d_D2, AAACCGTGTGAGGG_cc7d_D2, AAACGCACCCGAAT_cc7d_D2, AAACGCACCCTCCA_cc7d_D2, AAACGCACGAGATA_cc7d_D2, AAACGCACGTACGT_cc7d_D2, AAACGCACTTTACC_cc7d_D2, AAACGCTGAACGAA_cc7d_D2, AAACGCTGCCCAAA_cc7d_D2, AAACGCTGTCTTTG_cc7d_D2, AAACGCTGTGCTCC_cc7d_D2, AAACGGCTATGCCA_cc7d_D2, AAACGGCTCCCAAA_cc7d_D2, AAACGGCTGCAGAG_cc7d_D2, AAACGGCTGCTGTA_cc7d_D2, AAACGGCTGTGTCA_cc7d_D2, AAACTTGAATACCG_cc7d_D2, AAACTTGACCATGA_cc7d_D2, AAACTTGACTACCC_cc7d_D2, AAACTTGAGCTTAG_cc7d_D2, AAACTTGATCGCCT_cc7d_D2, AAACTTGATTAGGC_cc7d_D2, AAACTTGATTATCC_cc7d_D2, AAAGACGACAAGCT_cc7d_D2, AAAGACGATCTCTA_cc7d_D2, AAAGAGACGAATAG_cc7d_D2, AAAGAGACTCTAGG_cc7d_D2, AAAGATCTCTAGCA_cc7d_D2, AAAGATCTGCTTAG_cc7d_D2, AAAGATCTGGGACA_cc7d_D2, AAAGATCTGGTATC_cc7d_D2, AAAGATCTTCCTAT_cc7d_D2, AAAGATCTTCTAGG_cc7d_D2, AAAGCAGATGATGC_cc7d_D2, AAAGCCTGAGGAGC_cc7d_D2, AAAGCCTGAGTGTC_cc7d_D2, AAAGCCTGCGCATA_cc7d_D2, AAAGCCTGGACGTT_cc7d_D2, AAAGCCTGGGGCAA_cc7d_D2, AAAGGCCTGCGATT_cc7d_D2, AAAGGCCTGGTCTA_cc7d_D2, AAAGGCCTTCCTAT_cc7d_D2, AAAGGCCTTGCACA_cc7d_D2, AAAGGCCTTGGAGG_cc7d_D2, AAAGTTTGATGACC_cc7d_D2, AAAGTTTGTTCTGT_cc7d_D2, AAAGTTTGTTTGCT_cc7d_D2, AAATACTGAAGGCG_cc7d_D2, AAATACTGACGTAC_cc7d_D2, AAATACTGGTGCTA_cc7d_D2, AAATACTGTCAGGT_cc7d_D2, AAATACTGTGCAAC_cc7d_D2, AAATCAACATGTCG_cc7d_D2, AAATCAACTAAAGG_cc7d_D2, AAATCAACTGCTAG_cc7d_D2, AAATCATGAAGGTA_cc7d_D2, AAATCATGGAATCC_cc7d_D2, AAATCATGTTTGCT_cc7d_D2, AAATCCCTAGAATG_cc7d_D2, AAATCCCTCTCTTA_cc7d_D2, AAATCCCTGTAAAG_cc7d_D2, AAATCTGAAGATGA_cc7d_D2, AAATCTGAAGGAGC_cc7d_D2, AAATCTGAGGGACA_cc7d_D2, AAATCTGATCCAAG_cc7d_D2, AAATCTGATGGGAG_cc7d_D2, AAATCTGATGGTTG_cc7d_D2, AAATGGGATCCGAA_cc7d_D2, AAATGTTGAACCTG_cc7d_D2, AAATGTTGCTACCC_cc7d_D2, AAATGTTGCTCGAA_cc7d_D2, AAATGTTGCTCGCT_cc7d_D2, AAATTCGAAAACAG_cc7d_D2, AAATTCGAAACCTG_cc7d_D2, AAATTCGATACGCA_cc7d_D2, AAATTGACCTCTTA_cc7d_D2, AAATTGACTGTCTT_cc7d_D2, AACAAACTAGTCAC_cc7d_D2, AACAAACTCCAGTA_cc7d_D2, AACAAACTGATGAA_cc7d_D2, AACAAACTTAAGGA_cc7d_D2, AACAAACTTCTACT_cc7d_D2, AACAATACACACCA_cc7d_D2, AACAATACATGCTG_cc7d_D2, AACAATACCAACTG_cc7d_D2, AACAATACGCAGAG_cc7d_D2, AACAATACGCGAGA_cc7d_D2, AACAATACGTCTAG_cc7d_D2, AACACGTGGCATAC_cc7d_D2, AACACGTGGTCGAT_cc7d_D2, AACACTCTCACTTT_cc7d_D2, AACACTCTCCTATT_cc7d_D2, AACACTCTCGGAGA_cc7d_D2, ...]\n",
       "\n",
       "[25971 rows x 0 columns]"
      ]
     },
     "execution_count": 253,
     "metadata": {},
     "output_type": "execute_result"
    }
   ],
   "source": [
    "cell_info.index = cell_info['cell_barcode']\n",
    "del cell_info['cell_barcode']\n",
    "cell_info"
   ]
  },
  {
   "cell_type": "code",
   "execution_count": 206,
   "metadata": {},
   "outputs": [
    {
     "data": {
      "text/plain": [
       "2459590"
      ]
     },
     "execution_count": 206,
     "metadata": {},
     "output_type": "execute_result"
    }
   ],
   "source": [
    "# total_list = []\n",
    "# for i in cbc_gbc_dic_lenient['gbc']:\n",
    "#     total_list.extend(i)\n",
    "# # [x for x in cbc_gbc_dic_lenient['gbc']]\n",
    "# len(total_list)"
   ]
  },
  {
   "cell_type": "code",
   "execution_count": 207,
   "metadata": {},
   "outputs": [
    {
     "data": {
      "text/plain": [
       "1640965"
      ]
     },
     "execution_count": 207,
     "metadata": {},
     "output_type": "execute_result"
    }
   ],
   "source": [
    "# total_list = []\n",
    "# for i in cbc_gbc_dic_strict['gbc']:\n",
    "#     total_list.extend(i)\n",
    "# # [x for x in cbc_gbc_dic_lenient['gbc']]\n",
    "# len(total_list)"
   ]
  },
  {
   "cell_type": "code",
   "execution_count": 254,
   "metadata": {},
   "outputs": [],
   "source": [
    "cbc_gbc_dic.index = cbc_gbc_dic['cbc']\n",
    "del cbc_gbc_dic['cbc']\n",
    "\n"
   ]
  },
  {
   "cell_type": "code",
   "execution_count": 255,
   "metadata": {},
   "outputs": [],
   "source": [
    "cell_info['condition'] = 'control'\n",
    "# cell_info['condition_lenient'] = 'control'\n",
    "for barcode in cell_info.index:\n",
    "    try:\n",
    "        condition = cbc_gbc_dic[cbc_gbc_dic['gbc'].str.contains(barcode)].index.values[0]\n",
    "        cell_info.loc[barcode]['condition'] = condition\n",
    "    except:\n",
    "        cell_info.loc[barcode]['condition'] = 'control'\n"
   ]
  },
  {
   "cell_type": "code",
   "execution_count": 256,
   "metadata": {},
   "outputs": [
    {
     "data": {
      "text/html": [
       "<div>\n",
       "<style scoped>\n",
       "    .dataframe tbody tr th:only-of-type {\n",
       "        vertical-align: middle;\n",
       "    }\n",
       "\n",
       "    .dataframe tbody tr th {\n",
       "        vertical-align: top;\n",
       "    }\n",
       "\n",
       "    .dataframe thead th {\n",
       "        text-align: right;\n",
       "    }\n",
       "</style>\n",
       "<table border=\"1\" class=\"dataframe\">\n",
       "  <thead>\n",
       "    <tr style=\"text-align: right;\">\n",
       "      <th></th>\n",
       "      <th>condition</th>\n",
       "    </tr>\n",
       "    <tr>\n",
       "      <th>cell_barcode</th>\n",
       "      <th></th>\n",
       "    </tr>\n",
       "  </thead>\n",
       "  <tbody>\n",
       "    <tr>\n",
       "      <th>AAACATACATGTGC_cc7d_D2</th>\n",
       "      <td>c_sgOGG1_2</td>\n",
       "    </tr>\n",
       "    <tr>\n",
       "      <th>AAACATACATTCCT_cc7d_D2</th>\n",
       "      <td>c_sgCIT_1</td>\n",
       "    </tr>\n",
       "    <tr>\n",
       "      <th>AAACATACCCCGTT_cc7d_D2</th>\n",
       "      <td>c_sgOGG1_3</td>\n",
       "    </tr>\n",
       "    <tr>\n",
       "      <th>AAACATACGATAGA_cc7d_D2</th>\n",
       "      <td>c_sgAURKA_3</td>\n",
       "    </tr>\n",
       "    <tr>\n",
       "      <th>AAACATACGTACGT_cc7d_D2</th>\n",
       "      <td>c_INTERGENIC393453</td>\n",
       "    </tr>\n",
       "    <tr>\n",
       "      <th>...</th>\n",
       "      <td>...</td>\n",
       "    </tr>\n",
       "    <tr>\n",
       "      <th>TTTGCATGGCCATA_cc7d_C1</th>\n",
       "      <td>c_sgPTGER2_4</td>\n",
       "    </tr>\n",
       "    <tr>\n",
       "      <th>TTTGCATGGCTAAC_cc7d_C1</th>\n",
       "      <td>control</td>\n",
       "    </tr>\n",
       "    <tr>\n",
       "      <th>TTTGCATGGCTACA_cc7d_C1</th>\n",
       "      <td>c_sgAURKB_4</td>\n",
       "    </tr>\n",
       "    <tr>\n",
       "      <th>TTTGCATGTAGAGA_cc7d_C1</th>\n",
       "      <td>c_sgAURKC_1</td>\n",
       "    </tr>\n",
       "    <tr>\n",
       "      <th>TTTGCATGTGTAGC_cc7d_C1</th>\n",
       "      <td>c_sgARHGEF17_1</td>\n",
       "    </tr>\n",
       "  </tbody>\n",
       "</table>\n",
       "<p>25971 rows × 1 columns</p>\n",
       "</div>"
      ],
      "text/plain": [
       "                                 condition\n",
       "cell_barcode                              \n",
       "AAACATACATGTGC_cc7d_D2          c_sgOGG1_2\n",
       "AAACATACATTCCT_cc7d_D2           c_sgCIT_1\n",
       "AAACATACCCCGTT_cc7d_D2          c_sgOGG1_3\n",
       "AAACATACGATAGA_cc7d_D2         c_sgAURKA_3\n",
       "AAACATACGTACGT_cc7d_D2  c_INTERGENIC393453\n",
       "...                                    ...\n",
       "TTTGCATGGCCATA_cc7d_C1        c_sgPTGER2_4\n",
       "TTTGCATGGCTAAC_cc7d_C1             control\n",
       "TTTGCATGGCTACA_cc7d_C1         c_sgAURKB_4\n",
       "TTTGCATGTAGAGA_cc7d_C1         c_sgAURKC_1\n",
       "TTTGCATGTGTAGC_cc7d_C1      c_sgARHGEF17_1\n",
       "\n",
       "[25971 rows x 1 columns]"
      ]
     },
     "execution_count": 256,
     "metadata": {},
     "output_type": "execute_result"
    }
   ],
   "source": [
    "cell_info"
   ]
  },
  {
   "cell_type": "code",
   "execution_count": 257,
   "metadata": {},
   "outputs": [
    {
     "data": {
      "text/plain": [
       "AnnData object with n_obs × n_vars = 22783 × 25971"
      ]
     },
     "execution_count": 257,
     "metadata": {},
     "output_type": "execute_result"
    }
   ],
   "source": [
    "exp"
   ]
  },
  {
   "cell_type": "code",
   "execution_count": 258,
   "metadata": {},
   "outputs": [],
   "source": [
    "exp = exp.to_df().T"
   ]
  },
  {
   "cell_type": "code",
   "execution_count": 259,
   "metadata": {},
   "outputs": [
    {
     "data": {
      "text/html": [
       "<div>\n",
       "<style scoped>\n",
       "    .dataframe tbody tr th:only-of-type {\n",
       "        vertical-align: middle;\n",
       "    }\n",
       "\n",
       "    .dataframe tbody tr th {\n",
       "        vertical-align: top;\n",
       "    }\n",
       "\n",
       "    .dataframe thead th {\n",
       "        text-align: right;\n",
       "    }\n",
       "</style>\n",
       "<table border=\"1\" class=\"dataframe\">\n",
       "  <thead>\n",
       "    <tr style=\"text-align: right;\">\n",
       "      <th></th>\n",
       "      <th>0</th>\n",
       "      <th>1</th>\n",
       "      <th>2</th>\n",
       "      <th>3</th>\n",
       "      <th>4</th>\n",
       "      <th>5</th>\n",
       "      <th>6</th>\n",
       "      <th>7</th>\n",
       "      <th>8</th>\n",
       "      <th>9</th>\n",
       "      <th>...</th>\n",
       "      <th>22773</th>\n",
       "      <th>22774</th>\n",
       "      <th>22775</th>\n",
       "      <th>22776</th>\n",
       "      <th>22777</th>\n",
       "      <th>22778</th>\n",
       "      <th>22779</th>\n",
       "      <th>22780</th>\n",
       "      <th>22781</th>\n",
       "      <th>22782</th>\n",
       "    </tr>\n",
       "  </thead>\n",
       "  <tbody>\n",
       "    <tr>\n",
       "      <th>0</th>\n",
       "      <td>0.0</td>\n",
       "      <td>0.0</td>\n",
       "      <td>0.0</td>\n",
       "      <td>0.0</td>\n",
       "      <td>0.0</td>\n",
       "      <td>1.0</td>\n",
       "      <td>0.0</td>\n",
       "      <td>0.0</td>\n",
       "      <td>0.0</td>\n",
       "      <td>0.0</td>\n",
       "      <td>...</td>\n",
       "      <td>1.0</td>\n",
       "      <td>0.0</td>\n",
       "      <td>0.0</td>\n",
       "      <td>0.0</td>\n",
       "      <td>1.0</td>\n",
       "      <td>0.0</td>\n",
       "      <td>0.0</td>\n",
       "      <td>0.0</td>\n",
       "      <td>0.0</td>\n",
       "      <td>0.0</td>\n",
       "    </tr>\n",
       "    <tr>\n",
       "      <th>1</th>\n",
       "      <td>0.0</td>\n",
       "      <td>0.0</td>\n",
       "      <td>0.0</td>\n",
       "      <td>0.0</td>\n",
       "      <td>0.0</td>\n",
       "      <td>0.0</td>\n",
       "      <td>0.0</td>\n",
       "      <td>0.0</td>\n",
       "      <td>0.0</td>\n",
       "      <td>0.0</td>\n",
       "      <td>...</td>\n",
       "      <td>0.0</td>\n",
       "      <td>0.0</td>\n",
       "      <td>0.0</td>\n",
       "      <td>0.0</td>\n",
       "      <td>1.0</td>\n",
       "      <td>0.0</td>\n",
       "      <td>0.0</td>\n",
       "      <td>0.0</td>\n",
       "      <td>0.0</td>\n",
       "      <td>0.0</td>\n",
       "    </tr>\n",
       "    <tr>\n",
       "      <th>2</th>\n",
       "      <td>0.0</td>\n",
       "      <td>0.0</td>\n",
       "      <td>0.0</td>\n",
       "      <td>0.0</td>\n",
       "      <td>0.0</td>\n",
       "      <td>0.0</td>\n",
       "      <td>0.0</td>\n",
       "      <td>0.0</td>\n",
       "      <td>0.0</td>\n",
       "      <td>0.0</td>\n",
       "      <td>...</td>\n",
       "      <td>0.0</td>\n",
       "      <td>0.0</td>\n",
       "      <td>2.0</td>\n",
       "      <td>0.0</td>\n",
       "      <td>3.0</td>\n",
       "      <td>0.0</td>\n",
       "      <td>0.0</td>\n",
       "      <td>0.0</td>\n",
       "      <td>0.0</td>\n",
       "      <td>0.0</td>\n",
       "    </tr>\n",
       "    <tr>\n",
       "      <th>3</th>\n",
       "      <td>0.0</td>\n",
       "      <td>0.0</td>\n",
       "      <td>0.0</td>\n",
       "      <td>0.0</td>\n",
       "      <td>0.0</td>\n",
       "      <td>0.0</td>\n",
       "      <td>0.0</td>\n",
       "      <td>0.0</td>\n",
       "      <td>0.0</td>\n",
       "      <td>0.0</td>\n",
       "      <td>...</td>\n",
       "      <td>0.0</td>\n",
       "      <td>0.0</td>\n",
       "      <td>0.0</td>\n",
       "      <td>0.0</td>\n",
       "      <td>0.0</td>\n",
       "      <td>0.0</td>\n",
       "      <td>0.0</td>\n",
       "      <td>0.0</td>\n",
       "      <td>0.0</td>\n",
       "      <td>0.0</td>\n",
       "    </tr>\n",
       "    <tr>\n",
       "      <th>4</th>\n",
       "      <td>0.0</td>\n",
       "      <td>0.0</td>\n",
       "      <td>0.0</td>\n",
       "      <td>0.0</td>\n",
       "      <td>0.0</td>\n",
       "      <td>0.0</td>\n",
       "      <td>0.0</td>\n",
       "      <td>0.0</td>\n",
       "      <td>0.0</td>\n",
       "      <td>0.0</td>\n",
       "      <td>...</td>\n",
       "      <td>0.0</td>\n",
       "      <td>0.0</td>\n",
       "      <td>0.0</td>\n",
       "      <td>0.0</td>\n",
       "      <td>1.0</td>\n",
       "      <td>0.0</td>\n",
       "      <td>1.0</td>\n",
       "      <td>0.0</td>\n",
       "      <td>0.0</td>\n",
       "      <td>0.0</td>\n",
       "    </tr>\n",
       "    <tr>\n",
       "      <th>...</th>\n",
       "      <td>...</td>\n",
       "      <td>...</td>\n",
       "      <td>...</td>\n",
       "      <td>...</td>\n",
       "      <td>...</td>\n",
       "      <td>...</td>\n",
       "      <td>...</td>\n",
       "      <td>...</td>\n",
       "      <td>...</td>\n",
       "      <td>...</td>\n",
       "      <td>...</td>\n",
       "      <td>...</td>\n",
       "      <td>...</td>\n",
       "      <td>...</td>\n",
       "      <td>...</td>\n",
       "      <td>...</td>\n",
       "      <td>...</td>\n",
       "      <td>...</td>\n",
       "      <td>...</td>\n",
       "      <td>...</td>\n",
       "      <td>...</td>\n",
       "    </tr>\n",
       "    <tr>\n",
       "      <th>25966</th>\n",
       "      <td>0.0</td>\n",
       "      <td>0.0</td>\n",
       "      <td>0.0</td>\n",
       "      <td>1.0</td>\n",
       "      <td>0.0</td>\n",
       "      <td>0.0</td>\n",
       "      <td>0.0</td>\n",
       "      <td>0.0</td>\n",
       "      <td>0.0</td>\n",
       "      <td>0.0</td>\n",
       "      <td>...</td>\n",
       "      <td>0.0</td>\n",
       "      <td>0.0</td>\n",
       "      <td>0.0</td>\n",
       "      <td>0.0</td>\n",
       "      <td>0.0</td>\n",
       "      <td>0.0</td>\n",
       "      <td>0.0</td>\n",
       "      <td>0.0</td>\n",
       "      <td>1.0</td>\n",
       "      <td>0.0</td>\n",
       "    </tr>\n",
       "    <tr>\n",
       "      <th>25967</th>\n",
       "      <td>0.0</td>\n",
       "      <td>0.0</td>\n",
       "      <td>0.0</td>\n",
       "      <td>0.0</td>\n",
       "      <td>0.0</td>\n",
       "      <td>0.0</td>\n",
       "      <td>0.0</td>\n",
       "      <td>0.0</td>\n",
       "      <td>0.0</td>\n",
       "      <td>0.0</td>\n",
       "      <td>...</td>\n",
       "      <td>0.0</td>\n",
       "      <td>0.0</td>\n",
       "      <td>1.0</td>\n",
       "      <td>0.0</td>\n",
       "      <td>0.0</td>\n",
       "      <td>0.0</td>\n",
       "      <td>0.0</td>\n",
       "      <td>0.0</td>\n",
       "      <td>0.0</td>\n",
       "      <td>0.0</td>\n",
       "    </tr>\n",
       "    <tr>\n",
       "      <th>25968</th>\n",
       "      <td>0.0</td>\n",
       "      <td>0.0</td>\n",
       "      <td>0.0</td>\n",
       "      <td>0.0</td>\n",
       "      <td>0.0</td>\n",
       "      <td>1.0</td>\n",
       "      <td>0.0</td>\n",
       "      <td>0.0</td>\n",
       "      <td>0.0</td>\n",
       "      <td>0.0</td>\n",
       "      <td>...</td>\n",
       "      <td>0.0</td>\n",
       "      <td>0.0</td>\n",
       "      <td>0.0</td>\n",
       "      <td>0.0</td>\n",
       "      <td>0.0</td>\n",
       "      <td>0.0</td>\n",
       "      <td>0.0</td>\n",
       "      <td>0.0</td>\n",
       "      <td>0.0</td>\n",
       "      <td>0.0</td>\n",
       "    </tr>\n",
       "    <tr>\n",
       "      <th>25969</th>\n",
       "      <td>0.0</td>\n",
       "      <td>0.0</td>\n",
       "      <td>0.0</td>\n",
       "      <td>0.0</td>\n",
       "      <td>0.0</td>\n",
       "      <td>1.0</td>\n",
       "      <td>0.0</td>\n",
       "      <td>0.0</td>\n",
       "      <td>0.0</td>\n",
       "      <td>0.0</td>\n",
       "      <td>...</td>\n",
       "      <td>1.0</td>\n",
       "      <td>0.0</td>\n",
       "      <td>0.0</td>\n",
       "      <td>0.0</td>\n",
       "      <td>0.0</td>\n",
       "      <td>0.0</td>\n",
       "      <td>0.0</td>\n",
       "      <td>0.0</td>\n",
       "      <td>0.0</td>\n",
       "      <td>0.0</td>\n",
       "    </tr>\n",
       "    <tr>\n",
       "      <th>25970</th>\n",
       "      <td>0.0</td>\n",
       "      <td>0.0</td>\n",
       "      <td>0.0</td>\n",
       "      <td>0.0</td>\n",
       "      <td>0.0</td>\n",
       "      <td>0.0</td>\n",
       "      <td>0.0</td>\n",
       "      <td>0.0</td>\n",
       "      <td>0.0</td>\n",
       "      <td>0.0</td>\n",
       "      <td>...</td>\n",
       "      <td>0.0</td>\n",
       "      <td>0.0</td>\n",
       "      <td>0.0</td>\n",
       "      <td>0.0</td>\n",
       "      <td>0.0</td>\n",
       "      <td>0.0</td>\n",
       "      <td>1.0</td>\n",
       "      <td>0.0</td>\n",
       "      <td>0.0</td>\n",
       "      <td>0.0</td>\n",
       "    </tr>\n",
       "  </tbody>\n",
       "</table>\n",
       "<p>25971 rows × 22783 columns</p>\n",
       "</div>"
      ],
      "text/plain": [
       "         0    1    2    3    4    5    6    7    8    9  ...  22773  22774  \\\n",
       "0      0.0  0.0  0.0  0.0  0.0  1.0  0.0  0.0  0.0  0.0  ...    1.0    0.0   \n",
       "1      0.0  0.0  0.0  0.0  0.0  0.0  0.0  0.0  0.0  0.0  ...    0.0    0.0   \n",
       "2      0.0  0.0  0.0  0.0  0.0  0.0  0.0  0.0  0.0  0.0  ...    0.0    0.0   \n",
       "3      0.0  0.0  0.0  0.0  0.0  0.0  0.0  0.0  0.0  0.0  ...    0.0    0.0   \n",
       "4      0.0  0.0  0.0  0.0  0.0  0.0  0.0  0.0  0.0  0.0  ...    0.0    0.0   \n",
       "...    ...  ...  ...  ...  ...  ...  ...  ...  ...  ...  ...    ...    ...   \n",
       "25966  0.0  0.0  0.0  1.0  0.0  0.0  0.0  0.0  0.0  0.0  ...    0.0    0.0   \n",
       "25967  0.0  0.0  0.0  0.0  0.0  0.0  0.0  0.0  0.0  0.0  ...    0.0    0.0   \n",
       "25968  0.0  0.0  0.0  0.0  0.0  1.0  0.0  0.0  0.0  0.0  ...    0.0    0.0   \n",
       "25969  0.0  0.0  0.0  0.0  0.0  1.0  0.0  0.0  0.0  0.0  ...    1.0    0.0   \n",
       "25970  0.0  0.0  0.0  0.0  0.0  0.0  0.0  0.0  0.0  0.0  ...    0.0    0.0   \n",
       "\n",
       "       22775  22776  22777  22778  22779  22780  22781  22782  \n",
       "0        0.0    0.0    1.0    0.0    0.0    0.0    0.0    0.0  \n",
       "1        0.0    0.0    1.0    0.0    0.0    0.0    0.0    0.0  \n",
       "2        2.0    0.0    3.0    0.0    0.0    0.0    0.0    0.0  \n",
       "3        0.0    0.0    0.0    0.0    0.0    0.0    0.0    0.0  \n",
       "4        0.0    0.0    1.0    0.0    1.0    0.0    0.0    0.0  \n",
       "...      ...    ...    ...    ...    ...    ...    ...    ...  \n",
       "25966    0.0    0.0    0.0    0.0    0.0    0.0    1.0    0.0  \n",
       "25967    1.0    0.0    0.0    0.0    0.0    0.0    0.0    0.0  \n",
       "25968    0.0    0.0    0.0    0.0    0.0    0.0    0.0    0.0  \n",
       "25969    0.0    0.0    0.0    0.0    0.0    0.0    0.0    0.0  \n",
       "25970    0.0    0.0    0.0    0.0    1.0    0.0    0.0    0.0  \n",
       "\n",
       "[25971 rows x 22783 columns]"
      ]
     },
     "execution_count": 259,
     "metadata": {},
     "output_type": "execute_result"
    }
   ],
   "source": [
    "exp"
   ]
  },
  {
   "cell_type": "code",
   "execution_count": 260,
   "metadata": {},
   "outputs": [
    {
     "name": "stderr",
     "output_type": "stream",
     "text": [
      "/tmp/ipykernel_2298418/597258143.py:1: UserWarning: Pandas doesn't allow columns to be created via a new attribute name - see https://pandas.pydata.org/pandas-docs/stable/indexing.html#attribute-access\n",
      "  exp.obs = cell_info\n"
     ]
    }
   ],
   "source": [
    "exp.obs = cell_info\n",
    "exp.var = gene_info"
   ]
  },
  {
   "cell_type": "code",
   "execution_count": 261,
   "metadata": {},
   "outputs": [],
   "source": [
    "exp.index = cell_info.index\n",
    "exp.columns = gene_info.index"
   ]
  },
  {
   "cell_type": "code",
   "execution_count": 263,
   "metadata": {},
   "outputs": [],
   "source": [
    "adata = anndata.AnnData(X=exp, obs=cell_info, var=gene_info)"
   ]
  },
  {
   "cell_type": "code",
   "execution_count": 264,
   "metadata": {},
   "outputs": [],
   "source": [
    "import hdf5plugin\n",
    "adata.write_h5ad(\n",
    "    \"/media/hdd/hb/lof/perturb_seq/raw_preprocessing/dixit_k562_ccycle.h5ad\",\n",
    "    compression=hdf5plugin.FILTERS[\"zstd\"]\n",
    ")"
   ]
  },
  {
   "cell_type": "code",
   "execution_count": 265,
   "metadata": {},
   "outputs": [
    {
     "data": {
      "text/plain": [
       "(array(['sgOGG1', 'sgCIT', 'sgAURKA', 'INTERGENIC393453', 'sgAURKB',\n",
       "        'sgAURKC', 'sgCENPE', 'sgPTGER2', 'control', 'sgCABP7', 'sgECT2',\n",
       "        'sgARHGEF17', 'sgCEP55', 'INTERGENIC216151', 'INTERGENIC345439',\n",
       "        'sgTOR1AIP1', 'sgRACGAP1'], dtype=object),\n",
       " 17)"
      ]
     },
     "execution_count": 265,
     "metadata": {},
     "output_type": "execute_result"
    }
   ],
   "source": [
    "dixit_k562_ccycle = anndata.read_h5ad(\"/media/hdd/hb/lof/perturb_seq/raw_preprocessing/dixit_k562_ccycle.h5ad\")\n",
    "obs = dixit_k562_ccycle.obs\n",
    "obs.rename(columns={'condition': 'sgRNA'}, inplace=True)\n",
    "obs['condition'] = obs['sgRNA'].apply(lambda x: x.split('_')[1] if '_' in x else x)\n",
    "obs.condition.unique(), len(obs.condition.unique())"
   ]
  },
  {
   "cell_type": "code",
   "execution_count": 270,
   "metadata": {},
   "outputs": [
    {
     "data": {
      "text/plain": [
       "{'INTERGENIC216151', 'INTERGENIC393453', 'control'}"
      ]
     },
     "execution_count": 270,
     "metadata": {},
     "output_type": "execute_result"
    }
   ],
   "source": [
    "set(dixit_k562_tfs_hmoi.obs.condition.unique()).intersection(set(dixit_k562_ccycle.obs.condition.unique()))"
   ]
  },
  {
   "cell_type": "code",
   "execution_count": 266,
   "metadata": {},
   "outputs": [
    {
     "data": {
      "text/plain": [
       "AnnData object with n_obs × n_vars = 25971 × 22783\n",
       "    obs: 'sgRNA', 'condition'\n",
       "    var: 'gene_name', 'gene_symbol'"
      ]
     },
     "execution_count": 266,
     "metadata": {},
     "output_type": "execute_result"
    }
   ],
   "source": [
    "dixit_k562_ccycle"
   ]
  },
  {
   "cell_type": "code",
   "execution_count": null,
   "metadata": {},
   "outputs": [],
   "source": []
  }
 ],
 "metadata": {
  "kernelspec": {
   "display_name": "pp",
   "language": "python",
   "name": "python3"
  },
  "language_info": {
   "codemirror_mode": {
    "name": "ipython",
    "version": 3
   },
   "file_extension": ".py",
   "mimetype": "text/x-python",
   "name": "python",
   "nbconvert_exporter": "python",
   "pygments_lexer": "ipython3",
   "version": "3.11.3"
  }
 },
 "nbformat": 4,
 "nbformat_minor": 2
}
