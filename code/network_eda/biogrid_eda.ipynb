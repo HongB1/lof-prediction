{
 "cells": [
  {
   "cell_type": "code",
   "execution_count": 11,
   "metadata": {},
   "outputs": [],
   "source": [
    "import pandas as pd\n",
    "import numpy as np\n",
    "import torch\n",
    "from torch_geometric.datasets import Planetoid\n",
    "from torch_geometric.utils import to_networkx\n",
    "import networkx as nx\n",
    "import matplotlib.pyplot as plt\n",
    "import numpy as np\n",
    "import pandas as pd\n",
    "from pathlib import Path\n",
    "from collections import Counter\n",
    "import torch\n",
    "import numpy as np\n",
    "from torch_geometric.data import Data\n",
    "import anndata\n",
    "# import os\n",
    "import hdf5plugin\n",
    "from sklearn.preprocessing import MinMaxScaler\n",
    "import numpy as np\n",
    "import numpy as np\n",
    "np.random.seed(42)  # 예시로 42를 시드로 설정\n"
   ]
  },
  {
   "cell_type": "code",
   "execution_count": 129,
   "metadata": {},
   "outputs": [],
   "source": [
    "biogrid = pd.read_csv(\"/home/hb/lof/network/biogrid/integrated_network_dropdp_sorted_gene_set.csv\")\n"
   ]
  },
  {
   "cell_type": "code",
   "execution_count": 182,
   "metadata": {},
   "outputs": [
    {
     "data": {
      "text/html": [
       "<div>\n",
       "<style scoped>\n",
       "    .dataframe tbody tr th:only-of-type {\n",
       "        vertical-align: middle;\n",
       "    }\n",
       "\n",
       "    .dataframe tbody tr th {\n",
       "        vertical-align: top;\n",
       "    }\n",
       "\n",
       "    .dataframe thead th {\n",
       "        text-align: right;\n",
       "    }\n",
       "</style>\n",
       "<table border=\"1\" class=\"dataframe\">\n",
       "  <thead>\n",
       "    <tr style=\"text-align: right;\">\n",
       "      <th></th>\n",
       "      <th>gene_symbol_A</th>\n",
       "      <th>gene_symbol_B</th>\n",
       "      <th>label_A</th>\n",
       "      <th>label_B</th>\n",
       "      <th>edge</th>\n",
       "    </tr>\n",
       "  </thead>\n",
       "  <tbody>\n",
       "    <tr>\n",
       "      <th>1</th>\n",
       "      <td>MYPN</td>\n",
       "      <td>ACTN2</td>\n",
       "      <td>7811</td>\n",
       "      <td>172</td>\n",
       "      <td>7811-172</td>\n",
       "    </tr>\n",
       "  </tbody>\n",
       "</table>\n",
       "</div>"
      ],
      "text/plain": [
       "  gene_symbol_A gene_symbol_B  label_A  label_B      edge\n",
       "1          MYPN         ACTN2     7811      172  7811-172"
      ]
     },
     "execution_count": 182,
     "metadata": {},
     "output_type": "execute_result"
    }
   ],
   "source": [
    "from sklearn.preprocessing import LabelEncoder\n",
    "\n",
    "label_encoder = LabelEncoder()\n",
    "\n",
    "# 레이블 인코딩 수행\n",
    "gene_list = np.array(list(set(np.concatenate([biogrid['gene_symbol_A'].values, biogrid['gene_symbol_B'].values]))))\n",
    "label_encoder = label_encoder.fit(gene_list)\n",
    "gene_label = label_encoder.transform(gene_list)\n",
    "biogrid['label_A'] = label_encoder.transform(biogrid['gene_symbol_A'])\n",
    "biogrid['label_B'] = label_encoder.transform(biogrid['gene_symbol_B'])\n",
    "biogrid['edge'] = biogrid['label_A'].astype(str) + '-' + biogrid['label_B'].astype(str)\n",
    "gene_dict = dict(zip(gene_list, gene_label))\n",
    "edge_index = torch.tensor(np.vstack([biogrid['label_A'].values, biogrid['label_B'].values]))\n",
    "biogrid[biogrid['gene_symbol_A']=='MYPN'].head(1)"
   ]
  },
  {
   "cell_type": "code",
   "execution_count": 202,
   "metadata": {},
   "outputs": [
    {
     "data": {
      "text/plain": [
       "torch.Size([14592, 1])"
      ]
     },
     "execution_count": 202,
     "metadata": {},
     "output_type": "execute_result"
    }
   ],
   "source": [
    "DIM = len(gene_list)\n",
    "ahr_x1 = pd.read_csv(\"/data_hdd4/hb/lof/data/deg_augmentation/AHR/AHR_334.csv\")\n",
    "_df = ahr_x1\n",
    "_df['gene_label'] = _df['gene_name'].map(gene_dict)\n",
    "_df = _df.dropna(subset=['gene_label'], ignore_index=True).sort_values(by='gene_label')\n",
    "_df['gene_label'] = _df['gene_label'].astype(int)\n",
    "\n",
    "x_dict = dict(zip(_df['gene_label'].values, _df.iloc[:, -2].values))\n",
    "not_in_dict = set(range(DIM)) - set(x_dict.keys())\n",
    "not_in_dict = dict(zip(not_in_dict, [0]*len(not_in_dict)))\n",
    "x_dict.update(not_in_dict)\n",
    "len(x_dict.keys())\n",
    "x = torch.tensor(list(x_dict.values()), dtype=torch.float32).view(-1, 1)\n",
    "x.shape"
   ]
  },
  {
   "cell_type": "code",
   "execution_count": 186,
   "metadata": {},
   "outputs": [],
   "source": [
    "perturb_set = ['AHR']\n",
    "perturb_gene_label = [gene_dict[x] for x in perturb_set]\n",
    "_y = np.zeros(DIM)\n",
    "for _gene in perturb_gene_label:\n",
    "    _y[_gene] = 1"
   ]
  },
  {
   "cell_type": "code",
   "execution_count": 205,
   "metadata": {},
   "outputs": [
    {
     "data": {
      "text/plain": [
       "(tensor([[-0.4990],\n",
       "         [-0.1141],\n",
       "         [-0.1161],\n",
       "         ...,\n",
       "         [ 0.0000],\n",
       "         [ 0.0000],\n",
       "         [ 0.0000]]),\n",
       " torch.Size([14592, 1]))"
      ]
     },
     "execution_count": 205,
     "metadata": {},
     "output_type": "execute_result"
    }
   ],
   "source": [
    "x, x.shape"
   ]
  },
  {
   "cell_type": "code",
   "execution_count": 206,
   "metadata": {},
   "outputs": [
    {
     "data": {
      "text/plain": [
       "tensor([[ 7026,  7811,   184,  ..., 12987, 11405, 12126],\n",
       "        [ 4532,   172,  4567,  ..., 13325, 12126, 11405]])"
      ]
     },
     "execution_count": 206,
     "metadata": {},
     "output_type": "execute_result"
    }
   ],
   "source": [
    "edge_index"
   ]
  },
  {
   "cell_type": "code",
   "execution_count": 207,
   "metadata": {},
   "outputs": [
    {
     "data": {
      "text/plain": [
       "(14592,)"
      ]
     },
     "execution_count": 207,
     "metadata": {},
     "output_type": "execute_result"
    }
   ],
   "source": [
    "_y.shape"
   ]
  },
  {
   "cell_type": "code",
   "execution_count": 203,
   "metadata": {},
   "outputs": [
    {
     "data": {
      "text/plain": [
       "Data(x=[14592, 1], edge_index=[2, 743637], y=[14592])"
      ]
     },
     "execution_count": 203,
     "metadata": {},
     "output_type": "execute_result"
    }
   ],
   "source": [
    "biogrid_data = Data(x=x, edge_index=edge_index, y=_y)\n",
    "biogrid_data"
   ]
  },
  {
   "cell_type": "code",
   "execution_count": null,
   "metadata": {},
   "outputs": [],
   "source": []
  }
 ],
 "metadata": {
  "kernelspec": {
   "display_name": "gnn",
   "language": "python",
   "name": "python3"
  },
  "language_info": {
   "codemirror_mode": {
    "name": "ipython",
    "version": 3
   },
   "file_extension": ".py",
   "mimetype": "text/x-python",
   "name": "python",
   "nbconvert_exporter": "python",
   "pygments_lexer": "ipython3",
   "version": "3.11.5"
  }
 },
 "nbformat": 4,
 "nbformat_minor": 2
}
