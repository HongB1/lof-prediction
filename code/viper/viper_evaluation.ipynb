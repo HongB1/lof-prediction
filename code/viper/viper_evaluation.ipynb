{
 "cells": [
  {
   "cell_type": "code",
   "execution_count": 17,
   "metadata": {},
   "outputs": [],
   "source": [
    "import pandas as pd\n",
    "import seaborn as sns\n",
    "from scipy import stats"
   ]
  },
  {
   "cell_type": "code",
   "execution_count": 22,
   "metadata": {},
   "outputs": [],
   "source": [
    "output_ctrl = pd.read_csv(\"/home/hb/python/lof/perturbseq/gene_exp_for_viper/norman_cebpb_viper_result.csv\", index_col=0)\n",
    "output_ahr = pd.read_csv(\"/home/hb/python/lof/perturbseq/gene_exp_for_viper/output/AHR.csv\", index_col=0)\n",
    "output_ahr.loc['AHR']\n",
    "sns.distplot(output_ahr.loc['AHR'])"
   ]
  },
  {
   "cell_type": "code",
   "execution_count": 41,
   "metadata": {},
   "outputs": [
    {
     "name": "stdout",
     "output_type": "stream",
     "text": [
      "p_value < 0.05\n",
      "CEBPA - Correct\n",
      "p_value < 0.05\n",
      "p_value < 0.05\n",
      "p_value < 0.05\n",
      "p_value < 0.05\n",
      "SET - Correct\n",
      "p_value < 0.05\n",
      "p_value < 0.05\n",
      "p_value < 0.05\n",
      "p_value < 0.05\n",
      "p_value < 0.05\n",
      "p_value < 0.05\n",
      "p_value < 0.05\n",
      "p_value < 0.05\n",
      "LYL1 - Correct\n",
      "p_value < 0.05\n",
      "p_value < 0.05\n",
      "p_value < 0.05\n",
      "p_value < 0.05\n",
      "p_value < 0.05\n",
      "p_value < 0.05\n",
      "p_value < 0.05\n",
      "p_value < 0.05\n",
      "p_value < 0.05\n",
      "p_value < 0.05\n",
      "p_value < 0.05\n",
      "p_value < 0.05\n",
      "p_value < 0.05\n",
      "p_value < 0.05\n",
      "p_value < 0.05\n",
      "p_value < 0.05\n",
      "p_value < 0.05\n",
      "p_value < 0.05\n",
      "p_value < 0.05\n",
      "p_value < 0.05\n",
      "p_value < 0.05\n",
      "p_value < 0.05\n",
      "p_value < 0.05\n",
      "CKS1B - Correct\n",
      "p_value < 0.05\n",
      "TP73 - Correct\n",
      "p_value < 0.05\n",
      "p_value < 0.05\n",
      "HOXC13 - Correct\n",
      "p_value < 0.05\n",
      "p_value < 0.05\n",
      "p_value < 0.05\n",
      "p_value < 0.05\n",
      "p_value < 0.05\n",
      "p_value < 0.05\n",
      "p_value < 0.05\n",
      "p_value < 0.05\n",
      "p_value < 0.05\n"
     ]
    }
   ],
   "source": [
    "import os\n",
    "\n",
    "result = {}\n",
    "for condition in os.listdir(\"/home/hb/python/lof/perturbseq/gene_exp_for_viper/output\"):\n",
    "    output_condition = pd.read_csv(f\"/home/hb/python/lof/perturbseq/gene_exp_for_viper/output/{condition}\", index_col=0)\n",
    "    condition = condition.split('.')[0]\n",
    "    ctrl = output_ctrl.loc[condition].values\n",
    "    exp = output_ahr.loc[condition].values\n",
    "    ctrl_mean = ctrl.mean()\n",
    "    exp_mean = exp.mean()\n",
    "    t_statistic, p_value = stats.ttest_ind(ctrl, exp)\n",
    "    if p_value < 0.05:\n",
    "        print('p_value < 0.05')\n",
    "        if ctrl_mean > exp_mean : \n",
    "            print(f'{condition} - Correct')\n",
    "            result[condition] = 1\n",
    "        else:\n",
    "            result[condition] = 0\n",
    "    else:\n",
    "        result[condition] = 0"
   ]
  }
 ],
 "metadata": {
  "kernelspec": {
   "display_name": "lof",
   "language": "python",
   "name": "python3"
  },
  "language_info": {
   "codemirror_mode": {
    "name": "ipython",
    "version": 3
   },
   "file_extension": ".py",
   "mimetype": "text/x-python",
   "name": "python",
   "nbconvert_exporter": "python",
   "pygments_lexer": "ipython3",
   "version": "3.11.7"
  }
 },
 "nbformat": 4,
 "nbformat_minor": 2
}
