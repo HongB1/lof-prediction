{
 "cells": [
  {
   "cell_type": "code",
   "execution_count": 1,
   "metadata": {},
   "outputs": [],
   "source": [
    "import pandas as pd\n",
    "import numpy as np\n",
    "from collections import namedtuple\n",
    "path = '/home/hb/python/lof/CMAP/trt'\n",
    "import os"
   ]
  },
  {
   "cell_type": "code",
   "execution_count": 2,
   "metadata": {},
   "outputs": [],
   "source": [
    "\"\"\"trt 파일 불러오기\"\"\"\n",
    "os.chdir(path)\n",
    "\n",
    "\n",
    "\n",
    "L1000 = namedtuple(\"L1000\", ['shRNA', 'compound', 'CRISPR', 'etc', 'control'])\n",
    "trt_sh = pd.read_pickle(\"trt_shRNA.pkl\")\n",
    "trt_ctl = pd.read_pickle(\"trt_control.pkl\")\n",
    "trt_etc = pd.read_pickle(\"trt_misc_etc.pkl\")\n",
    "trt_cp = pd.read_pickle(\"trt_compound.pkl\")\n",
    "trt_xpr = pd.read_pickle(\"trt_xpr_CRISPR.pkl\")\n",
    "\n",
    "l1000 = L1000(trt_sh, trt_cp, trt_xpr, trt_etc, trt_ctl)"
   ]
  },
  {
   "cell_type": "code",
   "execution_count": 3,
   "metadata": {},
   "outputs": [
    {
     "name": "stderr",
     "output_type": "stream",
     "text": [
      "/tmp/ipykernel_456586/2405445695.py:15: DtypeWarning: Columns (0,3,4,28,29) have mixed types. Specify dtype option on import or set low_memory=False.\n",
      "  siginfo = pd.read_csv(\"siginfo_beta.txt\", sep='\\t')\n"
     ]
    }
   ],
   "source": [
    "\"\"\"cell 정보 파일 불러오기\"\"\"\n",
    "os.chdir(\"/home/hb/python/lof/CMAP/info\")\n",
    "cell = pd.read_csv(\"cellinfo_beta.txt\", sep=',')\n",
    "\n",
    "\"\"\"compound 중에 moa가 있는 것만 뽑기 -> target 정보 유무 확인\"\"\"\n",
    "compoundinfo = pd.read_csv(\"compound_target_info.txt\", sep=',')\n",
    "compoundinfo = compoundinfo[compoundinfo.moa.notnull()].reset_index(drop=True)\n",
    "# compoundinfo.to_csv(\"/home/hb/python/lof/clue/info/compoundinfo_beta.txt\", index=False)\n",
    "compoundinfo = pd.read_csv(\"compound_target_info.txt\", )\n",
    "\n",
    "\"\"\"gene 정보 파일 불러오기\"\"\"\n",
    "geneinfo = pd.read_csv(\"geneinfo_beta.txt\", sep=',')\n",
    "\n",
    "\"\"\"signature 정보 파일 불러오기\"\"\"\n",
    "siginfo = pd.read_csv(\"siginfo_beta.txt\", sep='\\t')\n",
    "siginfo.index = siginfo.sig_id\n",
    "\n",
    "\"\"\"pert 정보 파일 불러오기\"\"\"\n",
    "pert_info = pd.read_csv(\"GSE92742_Broad_LINCS_pert_info.txt\", sep='\\t')\n",
    "\n",
    "\"\"\"전체 정보 정리\"\"\"\n",
    "Info = namedtuple(\"Info\", ['cell', 'compound', 'geneinfo', 'siginfo', 'pertinfo'], defaults=(None, ) * 4)\n",
    "info = Info(cell, compoundinfo, geneinfo, siginfo, pert_info)"
   ]
  },
  {
   "cell_type": "code",
   "execution_count": 4,
   "metadata": {},
   "outputs": [
    {
     "data": {
      "text/plain": [
       "array(['trt_cp', 'trt_oe', 'trt_sh', 'trt_si', 'trt_aby', 'trt_lig',\n",
       "       'trt_xpr', 'ctl_vector', 'ctl_vehicle', 'ctl_untrt',\n",
       "       'ctl_vector.cns', 'ctl_vehicle.cns', 'ctl_untrt.cns', 'ctl_x',\n",
       "       'trt_sh.cgs', 'trt_sh.css'], dtype=object)"
      ]
     },
     "execution_count": 4,
     "metadata": {},
     "output_type": "execute_result"
    }
   ],
   "source": [
    "siginfo.columns\n",
    "siginfo.pert_type.unique()"
   ]
  },
  {
   "cell_type": "code",
   "execution_count": 5,
   "metadata": {},
   "outputs": [
    {
     "data": {
      "text/html": [
       "<div>\n",
       "<style scoped>\n",
       "    .dataframe tbody tr th:only-of-type {\n",
       "        vertical-align: middle;\n",
       "    }\n",
       "\n",
       "    .dataframe tbody tr th {\n",
       "        vertical-align: top;\n",
       "    }\n",
       "\n",
       "    .dataframe thead th {\n",
       "        text-align: right;\n",
       "    }\n",
       "</style>\n",
       "<table border=\"1\" class=\"dataframe\">\n",
       "  <thead>\n",
       "    <tr style=\"text-align: right;\">\n",
       "      <th></th>\n",
       "      <th>counts</th>\n",
       "    </tr>\n",
       "    <tr>\n",
       "      <th>pbgene</th>\n",
       "      <th></th>\n",
       "    </tr>\n",
       "  </thead>\n",
       "  <tbody>\n",
       "    <tr>\n",
       "      <th>BRD-U44432129</th>\n",
       "      <td>0</td>\n",
       "    </tr>\n",
       "    <tr>\n",
       "      <th>vorinostat</th>\n",
       "      <td>0</td>\n",
       "    </tr>\n",
       "    <tr>\n",
       "      <th>HMN-214</th>\n",
       "      <td>0</td>\n",
       "    </tr>\n",
       "    <tr>\n",
       "      <th>tanespimycin</th>\n",
       "      <td>0</td>\n",
       "    </tr>\n",
       "    <tr>\n",
       "      <th>neratinib</th>\n",
       "      <td>0</td>\n",
       "    </tr>\n",
       "    <tr>\n",
       "      <th>...</th>\n",
       "      <td>...</td>\n",
       "    </tr>\n",
       "    <tr>\n",
       "      <th>BRD-K92897494</th>\n",
       "      <td>0</td>\n",
       "    </tr>\n",
       "    <tr>\n",
       "      <th>BRD-K47700511</th>\n",
       "      <td>0</td>\n",
       "    </tr>\n",
       "    <tr>\n",
       "      <th>BRD-K63427963</th>\n",
       "      <td>0</td>\n",
       "    </tr>\n",
       "    <tr>\n",
       "      <th>BRD-K34319349</th>\n",
       "      <td>0</td>\n",
       "    </tr>\n",
       "    <tr>\n",
       "      <th>BRD-K00889002</th>\n",
       "      <td>0</td>\n",
       "    </tr>\n",
       "  </tbody>\n",
       "</table>\n",
       "<p>46934 rows × 1 columns</p>\n",
       "</div>"
      ],
      "text/plain": [
       "               counts\n",
       "pbgene               \n",
       "BRD-U44432129       0\n",
       "vorinostat          0\n",
       "HMN-214             0\n",
       "tanespimycin        0\n",
       "neratinib           0\n",
       "...               ...\n",
       "BRD-K92897494       0\n",
       "BRD-K47700511       0\n",
       "BRD-K63427963       0\n",
       "BRD-K34319349       0\n",
       "BRD-K00889002       0\n",
       "\n",
       "[46934 rows x 1 columns]"
      ]
     },
     "execution_count": 5,
     "metadata": {},
     "output_type": "execute_result"
    }
   ],
   "source": [
    "pbgene_count = pd.DataFrame(siginfo.cmap_name.unique(), columns=['pbgene',])\n",
    "pbgene_count = pbgene_count.drop_duplicates(subset=['pbgene'], ).reset_index(drop=True)\n",
    "pbgene_count['counts'] = 0\n",
    "pbgene_count.index = pbgene_count.pbgene\n",
    "del pbgene_count['pbgene']\n",
    "pbgene_count"
   ]
  },
  {
   "cell_type": "code",
   "execution_count": 6,
   "metadata": {},
   "outputs": [],
   "source": [
    "siginfo_total = pd.read_csv(\"siginfo_beta_전체.txt\", sep='\\t')\n",
    "siginfo_total.index = siginfo_total.sig_id\n",
    "del siginfo_total['sig_id']\n",
    "siginfo_total_dict = siginfo_total.to_dict()['cmap_name']"
   ]
  },
  {
   "cell_type": "code",
   "execution_count": 7,
   "metadata": {},
   "outputs": [],
   "source": [
    "def make_sigid_cmap_df(df):\n",
    "\n",
    "    make_df = pd.DataFrame(set(df.columns), columns=['sigid',])\n",
    "\n",
    "    make_df['cmap_name'] = make_df['sigid'].map(siginfo_total_dict)\n",
    "    return make_df"
   ]
  },
  {
   "cell_type": "code",
   "execution_count": 8,
   "metadata": {},
   "outputs": [],
   "source": [
    "trt_cpp = make_sigid_cmap_df(trt_cp)\n",
    "trt_ctll = make_sigid_cmap_df(trt_ctl)\n",
    "trt_etcc = make_sigid_cmap_df(trt_etc)\n",
    "trt_xprr = make_sigid_cmap_df(trt_xpr)\n",
    "trt_shh = make_sigid_cmap_df(trt_sh)"
   ]
  },
  {
   "cell_type": "code",
   "execution_count": 10,
   "metadata": {},
   "outputs": [],
   "source": [
    "compound_dict = {x: y for x, y in zip(compoundinfo.cmap_name, compoundinfo.target)}\n",
    "trt_cpp['target'] = trt_cpp['cmap_name'].apply(lambda x: compound_dict[x] if x in compound_dict.keys() else np.nan)\n",
    "trt_cpp_target = trt_cpp[~trt_cpp['target'].isna()]\n",
    "total_cmap_name = set(trt_xprr.cmap_name.unique()) | set(trt_shh.cmap_name.unique()) | set(trt_cpp_target.target.unique()) | set(trt_etcc.cmap_name.unique())"
   ]
  },
  {
   "cell_type": "code",
   "execution_count": 58,
   "metadata": {},
   "outputs": [
    {
     "data": {
      "text/html": [
       "<div>\n",
       "<style scoped>\n",
       "    .dataframe tbody tr th:only-of-type {\n",
       "        vertical-align: middle;\n",
       "    }\n",
       "\n",
       "    .dataframe tbody tr th {\n",
       "        vertical-align: top;\n",
       "    }\n",
       "\n",
       "    .dataframe thead th {\n",
       "        text-align: right;\n",
       "    }\n",
       "</style>\n",
       "<table border=\"1\" class=\"dataframe\">\n",
       "  <thead>\n",
       "    <tr style=\"text-align: right;\">\n",
       "      <th></th>\n",
       "      <th>counts</th>\n",
       "    </tr>\n",
       "    <tr>\n",
       "      <th>pbgene</th>\n",
       "      <th></th>\n",
       "    </tr>\n",
       "  </thead>\n",
       "  <tbody>\n",
       "    <tr>\n",
       "      <th>VPS9D1</th>\n",
       "      <td>0</td>\n",
       "    </tr>\n",
       "    <tr>\n",
       "      <th>C16ORF80</th>\n",
       "      <td>0</td>\n",
       "    </tr>\n",
       "    <tr>\n",
       "      <th>TAATGTG</th>\n",
       "      <td>0</td>\n",
       "    </tr>\n",
       "    <tr>\n",
       "      <th>B9D1</th>\n",
       "      <td>0</td>\n",
       "    </tr>\n",
       "    <tr>\n",
       "      <th>TCAGGTC</th>\n",
       "      <td>0</td>\n",
       "    </tr>\n",
       "    <tr>\n",
       "      <th>...</th>\n",
       "      <td>...</td>\n",
       "    </tr>\n",
       "    <tr>\n",
       "      <th>TCGCTTC</th>\n",
       "      <td>0</td>\n",
       "    </tr>\n",
       "    <tr>\n",
       "      <th>SPRED2</th>\n",
       "      <td>0</td>\n",
       "    </tr>\n",
       "    <tr>\n",
       "      <th>ATTATGG</th>\n",
       "      <td>0</td>\n",
       "    </tr>\n",
       "    <tr>\n",
       "      <th>AGAGCCT</th>\n",
       "      <td>0</td>\n",
       "    </tr>\n",
       "    <tr>\n",
       "      <th>OLR1</th>\n",
       "      <td>0</td>\n",
       "    </tr>\n",
       "  </tbody>\n",
       "</table>\n",
       "<p>12012 rows × 1 columns</p>\n",
       "</div>"
      ],
      "text/plain": [
       "          counts\n",
       "pbgene          \n",
       "VPS9D1         0\n",
       "C16ORF80       0\n",
       "TAATGTG        0\n",
       "B9D1           0\n",
       "TCAGGTC        0\n",
       "...          ...\n",
       "TCGCTTC        0\n",
       "SPRED2         0\n",
       "ATTATGG        0\n",
       "AGAGCCT        0\n",
       "OLR1           0\n",
       "\n",
       "[12012 rows x 1 columns]"
      ]
     },
     "execution_count": 58,
     "metadata": {},
     "output_type": "execute_result"
    }
   ],
   "source": [
    "pbgene_count = pd.DataFrame(total_cmap_name, columns=['pbgene',])\n",
    "pbgene_count = pbgene_count.drop_duplicates(subset=['pbgene'], ).reset_index(drop=True)\n",
    "pbgene_count['counts'] = 0\n",
    "pbgene_count.index = pbgene_count.pbgene\n",
    "del pbgene_count['pbgene']\n",
    "pbgene_count"
   ]
  },
  {
   "cell_type": "code",
   "execution_count": 37,
   "metadata": {},
   "outputs": [
    {
     "data": {
      "text/html": [
       "<div>\n",
       "<style scoped>\n",
       "    .dataframe tbody tr th:only-of-type {\n",
       "        vertical-align: middle;\n",
       "    }\n",
       "\n",
       "    .dataframe tbody tr th {\n",
       "        vertical-align: top;\n",
       "    }\n",
       "\n",
       "    .dataframe thead th {\n",
       "        text-align: right;\n",
       "    }\n",
       "</style>\n",
       "<table border=\"1\" class=\"dataframe\">\n",
       "  <thead>\n",
       "    <tr style=\"text-align: right;\">\n",
       "      <th></th>\n",
       "      <th>sigid</th>\n",
       "      <th>cmap_name</th>\n",
       "    </tr>\n",
       "  </thead>\n",
       "  <tbody>\n",
       "    <tr>\n",
       "      <th>1</th>\n",
       "      <td>REP.B019_MDAMB231_24H:F06</td>\n",
       "      <td>KCNK9</td>\n",
       "    </tr>\n",
       "    <tr>\n",
       "      <th>2</th>\n",
       "      <td>REP.B002_HT29_24H:E13</td>\n",
       "      <td>GABRQ</td>\n",
       "    </tr>\n",
       "    <tr>\n",
       "      <th>5</th>\n",
       "      <td>REP.A021_A549_24H:A07</td>\n",
       "      <td>DRD3</td>\n",
       "    </tr>\n",
       "    <tr>\n",
       "      <th>8</th>\n",
       "      <td>CPD003_MCF7_6H:BRD-A58048407-001-11-3:10</td>\n",
       "      <td>CACNA1S</td>\n",
       "    </tr>\n",
       "    <tr>\n",
       "      <th>11</th>\n",
       "      <td>REP.B024_HEK293_24H:B10</td>\n",
       "      <td>PTGS2</td>\n",
       "    </tr>\n",
       "    <tr>\n",
       "      <th>...</th>\n",
       "      <td>...</td>\n",
       "      <td>...</td>\n",
       "    </tr>\n",
       "    <tr>\n",
       "      <th>720204</th>\n",
       "      <td>LJP008_HUVEC.A_24H:J11</td>\n",
       "      <td>HDAC4</td>\n",
       "    </tr>\n",
       "    <tr>\n",
       "      <th>720207</th>\n",
       "      <td>REP.B026_HT29_24H:O19</td>\n",
       "      <td>GABRA1</td>\n",
       "    </tr>\n",
       "    <tr>\n",
       "      <th>720209</th>\n",
       "      <td>REP.B006_A375_24H:H03</td>\n",
       "      <td>TBXAS1</td>\n",
       "    </tr>\n",
       "    <tr>\n",
       "      <th>720210</th>\n",
       "      <td>ASG002_SNU407_24H:I14</td>\n",
       "      <td>ERBB2</td>\n",
       "    </tr>\n",
       "    <tr>\n",
       "      <th>720214</th>\n",
       "      <td>REP.B006_HT29_24H:C20</td>\n",
       "      <td>PSMB5</td>\n",
       "    </tr>\n",
       "  </tbody>\n",
       "</table>\n",
       "<p>320367 rows × 2 columns</p>\n",
       "</div>"
      ],
      "text/plain": [
       "                                           sigid cmap_name\n",
       "1                      REP.B019_MDAMB231_24H:F06     KCNK9\n",
       "2                          REP.B002_HT29_24H:E13     GABRQ\n",
       "5                          REP.A021_A549_24H:A07      DRD3\n",
       "8       CPD003_MCF7_6H:BRD-A58048407-001-11-3:10   CACNA1S\n",
       "11                       REP.B024_HEK293_24H:B10     PTGS2\n",
       "...                                          ...       ...\n",
       "720204                    LJP008_HUVEC.A_24H:J11     HDAC4\n",
       "720207                     REP.B026_HT29_24H:O19    GABRA1\n",
       "720209                     REP.B006_A375_24H:H03    TBXAS1\n",
       "720210                     ASG002_SNU407_24H:I14     ERBB2\n",
       "720214                     REP.B006_HT29_24H:C20     PSMB5\n",
       "\n",
       "[320367 rows x 2 columns]"
      ]
     },
     "execution_count": 37,
     "metadata": {},
     "output_type": "execute_result"
    }
   ],
   "source": [
    "# del trt_cpp['cmap_name']\n",
    "# trt_cpp.rename(columns={'target': 'cmap_name'}, inplace=True)\n",
    "trt_cpp = trt_cpp[~trt_cpp['cmap_name'].isna()]\n",
    "trt_cpp.reset_index(drop=True, inplace=True)"
   ]
  },
  {
   "cell_type": "code",
   "execution_count": 59,
   "metadata": {},
   "outputs": [
    {
     "name": "stderr",
     "output_type": "stream",
     "text": [
      "100%|██████████| 320367/320367 [00:48<00:00, 6661.38it/s]\n",
      "100%|██████████| 142901/142901 [00:21<00:00, 6743.70it/s]\n",
      "100%|██████████| 8283/8283 [00:01<00:00, 6683.27it/s]\n",
      "100%|██████████| 238351/238351 [00:35<00:00, 6669.54it/s]\n",
      "100%|██████████| 4/4 [01:46<00:00, 26.57s/it]\n"
     ]
    }
   ],
   "source": [
    "from tqdm import tqdm\n",
    "\n",
    "pbgene_count_index = set(pbgene_count.index)\n",
    "for trt in tqdm([trt_cpp, trt_xprr, trt_etcc, trt_shh]):\n",
    "    for row in tqdm(range(len(trt))):\n",
    "        _cmap_name = trt.cmap_name[row]\n",
    "        if _cmap_name in pbgene_count_index:\n",
    "            pbgene_count.loc[_cmap_name] +=1"
   ]
  },
  {
   "cell_type": "code",
   "execution_count": 100,
   "metadata": {},
   "outputs": [
    {
     "data": {
      "text/plain": [
       "(12011, 1458)"
      ]
     },
     "execution_count": 100,
     "metadata": {},
     "output_type": "execute_result"
    }
   ],
   "source": [
    "len(pbgene_count.index), len(gpsadb_count.pbgene)"
   ]
  },
  {
   "cell_type": "code",
   "execution_count": 67,
   "metadata": {},
   "outputs": [
    {
     "data": {
      "text/plain": [
       "760"
      ]
     },
     "execution_count": 67,
     "metadata": {},
     "output_type": "execute_result"
    }
   ],
   "source": [
    "len(set(pbgene_count.index)&set(gpsadb_count.pbgene))"
   ]
  },
  {
   "cell_type": "code",
   "execution_count": 94,
   "metadata": {},
   "outputs": [
    {
     "ename": "KeyError",
     "evalue": "'counts'",
     "output_type": "error",
     "traceback": [
      "\u001b[0;31m---------------------------------------------------------------------------\u001b[0m",
      "\u001b[0;31mKeyError\u001b[0m                                  Traceback (most recent call last)",
      "Cell \u001b[0;32mIn[94], line 3\u001b[0m\n\u001b[1;32m      1\u001b[0m pbgene_count \u001b[38;5;241m=\u001b[39m pbgene_count[\u001b[38;5;241m~\u001b[39mpbgene_count\u001b[38;5;241m.\u001b[39mindex\u001b[38;5;241m.\u001b[39misna()]\n\u001b[0;32m----> 3\u001b[0m \u001b[43mpbgene_count\u001b[49m\u001b[38;5;241;43m.\u001b[39;49m\u001b[43msort_values\u001b[49m\u001b[43m(\u001b[49m\u001b[43mby\u001b[49m\u001b[38;5;241;43m=\u001b[39;49m\u001b[38;5;124;43m'\u001b[39;49m\u001b[38;5;124;43mcounts\u001b[39;49m\u001b[38;5;124;43m'\u001b[39;49m\u001b[43m,\u001b[49m\u001b[43m \u001b[49m\u001b[43mascending\u001b[49m\u001b[38;5;241;43m=\u001b[39;49m\u001b[38;5;28;43;01mFalse\u001b[39;49;00m\u001b[43m)\u001b[49m\n\u001b[1;32m      4\u001b[0m pbgene_count\u001b[38;5;241m.\u001b[39mrename(columns\u001b[38;5;241m=\u001b[39m{\u001b[38;5;124m'\u001b[39m\u001b[38;5;124mcounts\u001b[39m\u001b[38;5;124m'\u001b[39m: \u001b[38;5;124m'\u001b[39m\u001b[38;5;124m#Datasets\u001b[39m\u001b[38;5;124m'\u001b[39m}, inplace\u001b[38;5;241m=\u001b[39m\u001b[38;5;28;01mTrue\u001b[39;00m)\n",
      "File \u001b[0;32m~/anaconda3/envs/phos/lib/python3.10/site-packages/pandas/util/_decorators.py:331\u001b[0m, in \u001b[0;36mdeprecate_nonkeyword_arguments.<locals>.decorate.<locals>.wrapper\u001b[0;34m(*args, **kwargs)\u001b[0m\n\u001b[1;32m    325\u001b[0m \u001b[39mif\u001b[39;00m \u001b[39mlen\u001b[39m(args) \u001b[39m>\u001b[39m num_allow_args:\n\u001b[1;32m    326\u001b[0m     warnings\u001b[39m.\u001b[39mwarn(\n\u001b[1;32m    327\u001b[0m         msg\u001b[39m.\u001b[39mformat(arguments\u001b[39m=\u001b[39m_format_argument_list(allow_args)),\n\u001b[1;32m    328\u001b[0m         \u001b[39mFutureWarning\u001b[39;00m,\n\u001b[1;32m    329\u001b[0m         stacklevel\u001b[39m=\u001b[39mfind_stack_level(),\n\u001b[1;32m    330\u001b[0m     )\n\u001b[0;32m--> 331\u001b[0m \u001b[39mreturn\u001b[39;00m func(\u001b[39m*\u001b[39;49margs, \u001b[39m*\u001b[39;49m\u001b[39m*\u001b[39;49mkwargs)\n",
      "File \u001b[0;32m~/anaconda3/envs/phos/lib/python3.10/site-packages/pandas/core/frame.py:6909\u001b[0m, in \u001b[0;36mDataFrame.sort_values\u001b[0;34m(self, by, axis, ascending, inplace, kind, na_position, ignore_index, key)\u001b[0m\n\u001b[1;32m   6905\u001b[0m \u001b[39melif\u001b[39;00m \u001b[39mlen\u001b[39m(by):\n\u001b[1;32m   6906\u001b[0m     \u001b[39m# len(by) == 1\u001b[39;00m\n\u001b[1;32m   6908\u001b[0m     by \u001b[39m=\u001b[39m by[\u001b[39m0\u001b[39m]\n\u001b[0;32m-> 6909\u001b[0m     k \u001b[39m=\u001b[39m \u001b[39mself\u001b[39;49m\u001b[39m.\u001b[39;49m_get_label_or_level_values(by, axis\u001b[39m=\u001b[39;49maxis)\n\u001b[1;32m   6911\u001b[0m     \u001b[39m# need to rewrap column in Series to apply key function\u001b[39;00m\n\u001b[1;32m   6912\u001b[0m     \u001b[39mif\u001b[39;00m key \u001b[39mis\u001b[39;00m \u001b[39mnot\u001b[39;00m \u001b[39mNone\u001b[39;00m:\n\u001b[1;32m   6913\u001b[0m         \u001b[39m# error: Incompatible types in assignment (expression has type\u001b[39;00m\n\u001b[1;32m   6914\u001b[0m         \u001b[39m# \"Series\", variable has type \"ndarray\")\u001b[39;00m\n",
      "File \u001b[0;32m~/anaconda3/envs/phos/lib/python3.10/site-packages/pandas/core/generic.py:1850\u001b[0m, in \u001b[0;36mNDFrame._get_label_or_level_values\u001b[0;34m(self, key, axis)\u001b[0m\n\u001b[1;32m   1844\u001b[0m     values \u001b[39m=\u001b[39m (\n\u001b[1;32m   1845\u001b[0m         \u001b[39mself\u001b[39m\u001b[39m.\u001b[39maxes[axis]\n\u001b[1;32m   1846\u001b[0m         \u001b[39m.\u001b[39mget_level_values(key)  \u001b[39m# type: ignore[assignment]\u001b[39;00m\n\u001b[1;32m   1847\u001b[0m         \u001b[39m.\u001b[39m_values\n\u001b[1;32m   1848\u001b[0m     )\n\u001b[1;32m   1849\u001b[0m \u001b[39melse\u001b[39;00m:\n\u001b[0;32m-> 1850\u001b[0m     \u001b[39mraise\u001b[39;00m \u001b[39mKeyError\u001b[39;00m(key)\n\u001b[1;32m   1852\u001b[0m \u001b[39m# Check for duplicates\u001b[39;00m\n\u001b[1;32m   1853\u001b[0m \u001b[39mif\u001b[39;00m values\u001b[39m.\u001b[39mndim \u001b[39m>\u001b[39m \u001b[39m1\u001b[39m:\n",
      "\u001b[0;31mKeyError\u001b[0m: 'counts'"
     ]
    }
   ],
   "source": [
    "pbgene_count = pbgene_count[~pbgene_count.index.isna()]\n",
    "\n",
    "pbgene_count.sort_values(by='counts', ascending=False)\n",
    "pbgene_count.rename(columns={'counts': '#Datasets'}, inplace=True)"
   ]
  },
  {
   "cell_type": "code",
   "execution_count": 98,
   "metadata": {},
   "outputs": [
    {
     "name": "stderr",
     "output_type": "stream",
     "text": [
      "/tmp/ipykernel_456586/3630553457.py:3: UserWarning: \n",
      "\n",
      "`distplot` is a deprecated function and will be removed in seaborn v0.14.0.\n",
      "\n",
      "Please adapt your code to use either `displot` (a figure-level function with\n",
      "similar flexibility) or `histplot` (an axes-level function for histograms).\n",
      "\n",
      "For a guide to updating your code to use the new functions, please see\n",
      "https://gist.github.com/mwaskom/de44147ed2974457ad6372750bbe5751\n",
      "\n",
      "  sns.distplot(pbgene_count['#Datasets'], kde=True, rug=True)\n"
     ]
    },
    {
     "data": {
      "text/plain": [
       "Text(0.5, 1.0, 'CMAP dataset')"
      ]
     },
     "execution_count": 98,
     "metadata": {},
     "output_type": "execute_result"
    },
    {
     "data": {
      "image/png": "[encoded data removed]",
      "text/plain": [
       "<Figure size 640x480 with 1 Axes>"
      ]
     },
     "metadata": {},
     "output_type": "display_data"
    }
   ],
   "source": [
    "import seaborn as sns\n",
    "import matplotlib.pyplot as plt\n",
    "sns.distplot(pbgene_count['#Datasets'], kde=True, rug=True)\n",
    "plt.title(\"CMAP dataset\")\n",
    "# plt.show()"
   ]
  },
  {
   "cell_type": "code",
   "execution_count": 91,
   "metadata": {},
   "outputs": [
    {
     "name": "stderr",
     "output_type": "stream",
     "text": [
      "/tmp/ipykernel_456586/2734185091.py:1: UserWarning: \n",
      "\n",
      "`distplot` is a deprecated function and will be removed in seaborn v0.14.0.\n",
      "\n",
      "Please adapt your code to use either `displot` (a figure-level function with\n",
      "similar flexibility) or `histplot` (an axes-level function for histograms).\n",
      "\n",
      "For a guide to updating your code to use the new functions, please see\n",
      "https://gist.github.com/mwaskom/de44147ed2974457ad6372750bbe5751\n",
      "\n",
      "  sns.distplot(gpsadb_count['#Datasets'], kde=True, rug=True)\n"
     ]
    },
    {
     "data": {
      "text/plain": [
       "Text(0.5, 1.0, 'gpsadb dataset')"
      ]
     },
     "execution_count": 91,
     "metadata": {},
     "output_type": "execute_result"
    },
    {
     "data": {
      "image/png": "[encoded data removed]",
      "text/plain": [
       "<Figure size 640x480 with 1 Axes>"
      ]
     },
     "metadata": {},
     "output_type": "display_data"
    }
   ],
   "source": [
    "sns.distplot(gpsadb_count['#Datasets'], kde=True, rug=True)\n",
    "plt.title(\"gpsadb dataset\")\n",
    "# plt.show()\n",
    "\n",
    "# gpsadb_count"
   ]
  },
  {
   "cell_type": "code",
   "execution_count": 65,
   "metadata": {},
   "outputs": [
    {
     "data": {
      "text/plain": [
       "0         AARS1\n",
       "1       ATP5F1C\n",
       "2        POLR1G\n",
       "3         GARS1\n",
       "4         RACK1\n",
       "         ...   \n",
       "1453    ATXN7L3\n",
       "1454        CIC\n",
       "1455      UBE2K\n",
       "1456     NFATC3\n",
       "1457      SMC1A\n",
       "Name: pbgene, Length: 1458, dtype: object"
      ]
     },
     "execution_count": 65,
     "metadata": {},
     "output_type": "execute_result"
    }
   ],
   "source": [
    "gpsadb_count = pd.read_csv(\"/home/hb/python/lof/gpsadb/num_of_pbgene_datasets.csv\")\n",
    "gpsadb_count.pbgene"
   ]
  },
  {
   "cell_type": "code",
   "execution_count": null,
   "metadata": {},
   "outputs": [],
   "source": []
  }
 ],
 "metadata": {
  "kernelspec": {
   "display_name": "Python 3.10.9 ('phos')",
   "language": "python",
   "name": "python3"
  },
  "language_info": {
   "codemirror_mode": {
    "name": "ipython",
    "version": 3
   },
   "file_extension": ".py",
   "mimetype": "text/x-python",
   "name": "python",
   "nbconvert_exporter": "python",
   "pygments_lexer": "ipython3",
   "version": "3.10.9"
  },
  "orig_nbformat": 4,
  "vscode": {
   "interpreter": {
    "hash": "349d5b8602be48b8d49e955d206518dd9dc4b4a50dd1043b885f06ba702c39e3"
   }
  }
 },
 "nbformat": 4,
 "nbformat_minor": 2
}
